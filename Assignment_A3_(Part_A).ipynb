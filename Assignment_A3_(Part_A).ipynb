{
  "nbformat": 4,
  "nbformat_minor": 0,
  "metadata": {
    "colab": {
      "provenance": []
    },
    "kernelspec": {
      "name": "python3",
      "display_name": "Python 3"
    },
    "language_info": {
      "name": "python"
    }
  },
  "cells": [
    {
      "cell_type": "markdown",
      "source": [
        "# **Assignment A-3 (PART - A)**\n",
        "\n",
        "\n",
        "---\n",
        "\n",
        "\n",
        "\n"
      ],
      "metadata": {
        "id": "u6zTlpv1Ef83"
      }
    },
    {
      "cell_type": "markdown",
      "source": [
        "#**1) Load and Prepare Data**\n",
        "\n",
        "##**1.1 Load the Data**"
      ],
      "metadata": {
        "id": "VJgn_N-W3a3-"
      }
    },
    {
      "cell_type": "code",
      "source": [
        "import pandas as pd\n",
        "\n",
        "# Load the dataset from CSV file\n",
        "data = pd.read_csv('/content/breast_cancer.csv')\n",
        "\n",
        "# Display the first few rows of the dataset\n",
        "data.head()\n"
      ],
      "metadata": {
        "colab": {
          "base_uri": "https://localhost:8080/",
          "height": 273
        },
        "id": "xejD_lyx7WQb",
        "outputId": "95ca2aea-a257-4b47-8129-05d00d006af0"
      },
      "execution_count": null,
      "outputs": [
        {
          "output_type": "execute_result",
          "data": {
            "text/plain": [
              "         id diagnosis  Radius_mean  Texture_mean  perimeter_mean  area_mean  \\\n",
              "0    842302         M        17.99         10.38          122.80     1001.0   \n",
              "1    842517         M        20.57         21.77          132.90     1326.0   \n",
              "2  84300903         M        19.69         21.25          130.00     1203.0   \n",
              "3  84348301         M        11.42         20.38           77.58      386.1   \n",
              "4  84358402         M        20.29         14.34          135.10     1297.0   \n",
              "\n",
              "   smoothness_mean  compactness_mean  concavity_mean  concave points_mean  \\\n",
              "0          0.11840           0.27760          0.3001              0.14710   \n",
              "1          0.08474           0.07864          0.0869              0.07017   \n",
              "2          0.10960           0.15990          0.1974              0.12790   \n",
              "3          0.14250           0.28390          0.2414              0.10520   \n",
              "4          0.10030           0.13280          0.1980              0.10430   \n",
              "\n",
              "   ...  radius_worst  texture_worst  perimeter_worst  area_worst  \\\n",
              "0  ...         25.38          17.33           184.60      2019.0   \n",
              "1  ...         24.99          23.41           158.80      1956.0   \n",
              "2  ...         23.57          25.53           152.50      1709.0   \n",
              "3  ...         14.91          26.50            98.87       567.7   \n",
              "4  ...         22.54          16.67           152.20      1575.0   \n",
              "\n",
              "   smoothness_worst  compactness_worst  concavity_worst  concave points_worst  \\\n",
              "0            0.1622             0.6656           0.7119                0.2654   \n",
              "1            0.1238             0.1866           0.2416                0.1860   \n",
              "2            0.1444             0.4245           0.4504                0.2430   \n",
              "3            0.2098             0.8663           0.6869                0.2575   \n",
              "4            0.1374             0.2050           0.4000                0.1625   \n",
              "\n",
              "   symmetry_worst  fractal_dimension_worst  \n",
              "0          0.4601                  0.11890  \n",
              "1          0.2750                  0.08902  \n",
              "2          0.3613                  0.08758  \n",
              "3          0.6638                  0.17300  \n",
              "4          0.2364                  0.07678  \n",
              "\n",
              "[5 rows x 32 columns]"
            ],
            "text/html": [
              "\n",
              "  <div id=\"df-958819e4-93f9-488f-beab-d0877695c3bf\" class=\"colab-df-container\">\n",
              "    <div>\n",
              "<style scoped>\n",
              "    .dataframe tbody tr th:only-of-type {\n",
              "        vertical-align: middle;\n",
              "    }\n",
              "\n",
              "    .dataframe tbody tr th {\n",
              "        vertical-align: top;\n",
              "    }\n",
              "\n",
              "    .dataframe thead th {\n",
              "        text-align: right;\n",
              "    }\n",
              "</style>\n",
              "<table border=\"1\" class=\"dataframe\">\n",
              "  <thead>\n",
              "    <tr style=\"text-align: right;\">\n",
              "      <th></th>\n",
              "      <th>id</th>\n",
              "      <th>diagnosis</th>\n",
              "      <th>Radius_mean</th>\n",
              "      <th>Texture_mean</th>\n",
              "      <th>perimeter_mean</th>\n",
              "      <th>area_mean</th>\n",
              "      <th>smoothness_mean</th>\n",
              "      <th>compactness_mean</th>\n",
              "      <th>concavity_mean</th>\n",
              "      <th>concave points_mean</th>\n",
              "      <th>...</th>\n",
              "      <th>radius_worst</th>\n",
              "      <th>texture_worst</th>\n",
              "      <th>perimeter_worst</th>\n",
              "      <th>area_worst</th>\n",
              "      <th>smoothness_worst</th>\n",
              "      <th>compactness_worst</th>\n",
              "      <th>concavity_worst</th>\n",
              "      <th>concave points_worst</th>\n",
              "      <th>symmetry_worst</th>\n",
              "      <th>fractal_dimension_worst</th>\n",
              "    </tr>\n",
              "  </thead>\n",
              "  <tbody>\n",
              "    <tr>\n",
              "      <th>0</th>\n",
              "      <td>842302</td>\n",
              "      <td>M</td>\n",
              "      <td>17.99</td>\n",
              "      <td>10.38</td>\n",
              "      <td>122.80</td>\n",
              "      <td>1001.0</td>\n",
              "      <td>0.11840</td>\n",
              "      <td>0.27760</td>\n",
              "      <td>0.3001</td>\n",
              "      <td>0.14710</td>\n",
              "      <td>...</td>\n",
              "      <td>25.38</td>\n",
              "      <td>17.33</td>\n",
              "      <td>184.60</td>\n",
              "      <td>2019.0</td>\n",
              "      <td>0.1622</td>\n",
              "      <td>0.6656</td>\n",
              "      <td>0.7119</td>\n",
              "      <td>0.2654</td>\n",
              "      <td>0.4601</td>\n",
              "      <td>0.11890</td>\n",
              "    </tr>\n",
              "    <tr>\n",
              "      <th>1</th>\n",
              "      <td>842517</td>\n",
              "      <td>M</td>\n",
              "      <td>20.57</td>\n",
              "      <td>21.77</td>\n",
              "      <td>132.90</td>\n",
              "      <td>1326.0</td>\n",
              "      <td>0.08474</td>\n",
              "      <td>0.07864</td>\n",
              "      <td>0.0869</td>\n",
              "      <td>0.07017</td>\n",
              "      <td>...</td>\n",
              "      <td>24.99</td>\n",
              "      <td>23.41</td>\n",
              "      <td>158.80</td>\n",
              "      <td>1956.0</td>\n",
              "      <td>0.1238</td>\n",
              "      <td>0.1866</td>\n",
              "      <td>0.2416</td>\n",
              "      <td>0.1860</td>\n",
              "      <td>0.2750</td>\n",
              "      <td>0.08902</td>\n",
              "    </tr>\n",
              "    <tr>\n",
              "      <th>2</th>\n",
              "      <td>84300903</td>\n",
              "      <td>M</td>\n",
              "      <td>19.69</td>\n",
              "      <td>21.25</td>\n",
              "      <td>130.00</td>\n",
              "      <td>1203.0</td>\n",
              "      <td>0.10960</td>\n",
              "      <td>0.15990</td>\n",
              "      <td>0.1974</td>\n",
              "      <td>0.12790</td>\n",
              "      <td>...</td>\n",
              "      <td>23.57</td>\n",
              "      <td>25.53</td>\n",
              "      <td>152.50</td>\n",
              "      <td>1709.0</td>\n",
              "      <td>0.1444</td>\n",
              "      <td>0.4245</td>\n",
              "      <td>0.4504</td>\n",
              "      <td>0.2430</td>\n",
              "      <td>0.3613</td>\n",
              "      <td>0.08758</td>\n",
              "    </tr>\n",
              "    <tr>\n",
              "      <th>3</th>\n",
              "      <td>84348301</td>\n",
              "      <td>M</td>\n",
              "      <td>11.42</td>\n",
              "      <td>20.38</td>\n",
              "      <td>77.58</td>\n",
              "      <td>386.1</td>\n",
              "      <td>0.14250</td>\n",
              "      <td>0.28390</td>\n",
              "      <td>0.2414</td>\n",
              "      <td>0.10520</td>\n",
              "      <td>...</td>\n",
              "      <td>14.91</td>\n",
              "      <td>26.50</td>\n",
              "      <td>98.87</td>\n",
              "      <td>567.7</td>\n",
              "      <td>0.2098</td>\n",
              "      <td>0.8663</td>\n",
              "      <td>0.6869</td>\n",
              "      <td>0.2575</td>\n",
              "      <td>0.6638</td>\n",
              "      <td>0.17300</td>\n",
              "    </tr>\n",
              "    <tr>\n",
              "      <th>4</th>\n",
              "      <td>84358402</td>\n",
              "      <td>M</td>\n",
              "      <td>20.29</td>\n",
              "      <td>14.34</td>\n",
              "      <td>135.10</td>\n",
              "      <td>1297.0</td>\n",
              "      <td>0.10030</td>\n",
              "      <td>0.13280</td>\n",
              "      <td>0.1980</td>\n",
              "      <td>0.10430</td>\n",
              "      <td>...</td>\n",
              "      <td>22.54</td>\n",
              "      <td>16.67</td>\n",
              "      <td>152.20</td>\n",
              "      <td>1575.0</td>\n",
              "      <td>0.1374</td>\n",
              "      <td>0.2050</td>\n",
              "      <td>0.4000</td>\n",
              "      <td>0.1625</td>\n",
              "      <td>0.2364</td>\n",
              "      <td>0.07678</td>\n",
              "    </tr>\n",
              "  </tbody>\n",
              "</table>\n",
              "<p>5 rows × 32 columns</p>\n",
              "</div>\n",
              "    <div class=\"colab-df-buttons\">\n",
              "\n",
              "  <div class=\"colab-df-container\">\n",
              "    <button class=\"colab-df-convert\" onclick=\"convertToInteractive('df-958819e4-93f9-488f-beab-d0877695c3bf')\"\n",
              "            title=\"Convert this dataframe to an interactive table.\"\n",
              "            style=\"display:none;\">\n",
              "\n",
              "  <svg xmlns=\"http://www.w3.org/2000/svg\" height=\"24px\" viewBox=\"0 -960 960 960\">\n",
              "    <path d=\"M120-120v-720h720v720H120Zm60-500h600v-160H180v160Zm220 220h160v-160H400v160Zm0 220h160v-160H400v160ZM180-400h160v-160H180v160Zm440 0h160v-160H620v160ZM180-180h160v-160H180v160Zm440 0h160v-160H620v160Z\"/>\n",
              "  </svg>\n",
              "    </button>\n",
              "\n",
              "  <style>\n",
              "    .colab-df-container {\n",
              "      display:flex;\n",
              "      gap: 12px;\n",
              "    }\n",
              "\n",
              "    .colab-df-convert {\n",
              "      background-color: #E8F0FE;\n",
              "      border: none;\n",
              "      border-radius: 50%;\n",
              "      cursor: pointer;\n",
              "      display: none;\n",
              "      fill: #1967D2;\n",
              "      height: 32px;\n",
              "      padding: 0 0 0 0;\n",
              "      width: 32px;\n",
              "    }\n",
              "\n",
              "    .colab-df-convert:hover {\n",
              "      background-color: #E2EBFA;\n",
              "      box-shadow: 0px 1px 2px rgba(60, 64, 67, 0.3), 0px 1px 3px 1px rgba(60, 64, 67, 0.15);\n",
              "      fill: #174EA6;\n",
              "    }\n",
              "\n",
              "    .colab-df-buttons div {\n",
              "      margin-bottom: 4px;\n",
              "    }\n",
              "\n",
              "    [theme=dark] .colab-df-convert {\n",
              "      background-color: #3B4455;\n",
              "      fill: #D2E3FC;\n",
              "    }\n",
              "\n",
              "    [theme=dark] .colab-df-convert:hover {\n",
              "      background-color: #434B5C;\n",
              "      box-shadow: 0px 1px 3px 1px rgba(0, 0, 0, 0.15);\n",
              "      filter: drop-shadow(0px 1px 2px rgba(0, 0, 0, 0.3));\n",
              "      fill: #FFFFFF;\n",
              "    }\n",
              "  </style>\n",
              "\n",
              "    <script>\n",
              "      const buttonEl =\n",
              "        document.querySelector('#df-958819e4-93f9-488f-beab-d0877695c3bf button.colab-df-convert');\n",
              "      buttonEl.style.display =\n",
              "        google.colab.kernel.accessAllowed ? 'block' : 'none';\n",
              "\n",
              "      async function convertToInteractive(key) {\n",
              "        const element = document.querySelector('#df-958819e4-93f9-488f-beab-d0877695c3bf');\n",
              "        const dataTable =\n",
              "          await google.colab.kernel.invokeFunction('convertToInteractive',\n",
              "                                                    [key], {});\n",
              "        if (!dataTable) return;\n",
              "\n",
              "        const docLinkHtml = 'Like what you see? Visit the ' +\n",
              "          '<a target=\"_blank\" href=https://colab.research.google.com/notebooks/data_table.ipynb>data table notebook</a>'\n",
              "          + ' to learn more about interactive tables.';\n",
              "        element.innerHTML = '';\n",
              "        dataTable['output_type'] = 'display_data';\n",
              "        await google.colab.output.renderOutput(dataTable, element);\n",
              "        const docLink = document.createElement('div');\n",
              "        docLink.innerHTML = docLinkHtml;\n",
              "        element.appendChild(docLink);\n",
              "      }\n",
              "    </script>\n",
              "  </div>\n",
              "\n",
              "\n",
              "<div id=\"df-545e5b15-1b28-4448-a8c6-5c3d4f6de349\">\n",
              "  <button class=\"colab-df-quickchart\" onclick=\"quickchart('df-545e5b15-1b28-4448-a8c6-5c3d4f6de349')\"\n",
              "            title=\"Suggest charts\"\n",
              "            style=\"display:none;\">\n",
              "\n",
              "<svg xmlns=\"http://www.w3.org/2000/svg\" height=\"24px\"viewBox=\"0 0 24 24\"\n",
              "     width=\"24px\">\n",
              "    <g>\n",
              "        <path d=\"M19 3H5c-1.1 0-2 .9-2 2v14c0 1.1.9 2 2 2h14c1.1 0 2-.9 2-2V5c0-1.1-.9-2-2-2zM9 17H7v-7h2v7zm4 0h-2V7h2v10zm4 0h-2v-4h2v4z\"/>\n",
              "    </g>\n",
              "</svg>\n",
              "  </button>\n",
              "\n",
              "<style>\n",
              "  .colab-df-quickchart {\n",
              "      --bg-color: #E8F0FE;\n",
              "      --fill-color: #1967D2;\n",
              "      --hover-bg-color: #E2EBFA;\n",
              "      --hover-fill-color: #174EA6;\n",
              "      --disabled-fill-color: #AAA;\n",
              "      --disabled-bg-color: #DDD;\n",
              "  }\n",
              "\n",
              "  [theme=dark] .colab-df-quickchart {\n",
              "      --bg-color: #3B4455;\n",
              "      --fill-color: #D2E3FC;\n",
              "      --hover-bg-color: #434B5C;\n",
              "      --hover-fill-color: #FFFFFF;\n",
              "      --disabled-bg-color: #3B4455;\n",
              "      --disabled-fill-color: #666;\n",
              "  }\n",
              "\n",
              "  .colab-df-quickchart {\n",
              "    background-color: var(--bg-color);\n",
              "    border: none;\n",
              "    border-radius: 50%;\n",
              "    cursor: pointer;\n",
              "    display: none;\n",
              "    fill: var(--fill-color);\n",
              "    height: 32px;\n",
              "    padding: 0;\n",
              "    width: 32px;\n",
              "  }\n",
              "\n",
              "  .colab-df-quickchart:hover {\n",
              "    background-color: var(--hover-bg-color);\n",
              "    box-shadow: 0 1px 2px rgba(60, 64, 67, 0.3), 0 1px 3px 1px rgba(60, 64, 67, 0.15);\n",
              "    fill: var(--button-hover-fill-color);\n",
              "  }\n",
              "\n",
              "  .colab-df-quickchart-complete:disabled,\n",
              "  .colab-df-quickchart-complete:disabled:hover {\n",
              "    background-color: var(--disabled-bg-color);\n",
              "    fill: var(--disabled-fill-color);\n",
              "    box-shadow: none;\n",
              "  }\n",
              "\n",
              "  .colab-df-spinner {\n",
              "    border: 2px solid var(--fill-color);\n",
              "    border-color: transparent;\n",
              "    border-bottom-color: var(--fill-color);\n",
              "    animation:\n",
              "      spin 1s steps(1) infinite;\n",
              "  }\n",
              "\n",
              "  @keyframes spin {\n",
              "    0% {\n",
              "      border-color: transparent;\n",
              "      border-bottom-color: var(--fill-color);\n",
              "      border-left-color: var(--fill-color);\n",
              "    }\n",
              "    20% {\n",
              "      border-color: transparent;\n",
              "      border-left-color: var(--fill-color);\n",
              "      border-top-color: var(--fill-color);\n",
              "    }\n",
              "    30% {\n",
              "      border-color: transparent;\n",
              "      border-left-color: var(--fill-color);\n",
              "      border-top-color: var(--fill-color);\n",
              "      border-right-color: var(--fill-color);\n",
              "    }\n",
              "    40% {\n",
              "      border-color: transparent;\n",
              "      border-right-color: var(--fill-color);\n",
              "      border-top-color: var(--fill-color);\n",
              "    }\n",
              "    60% {\n",
              "      border-color: transparent;\n",
              "      border-right-color: var(--fill-color);\n",
              "    }\n",
              "    80% {\n",
              "      border-color: transparent;\n",
              "      border-right-color: var(--fill-color);\n",
              "      border-bottom-color: var(--fill-color);\n",
              "    }\n",
              "    90% {\n",
              "      border-color: transparent;\n",
              "      border-bottom-color: var(--fill-color);\n",
              "    }\n",
              "  }\n",
              "</style>\n",
              "\n",
              "  <script>\n",
              "    async function quickchart(key) {\n",
              "      const quickchartButtonEl =\n",
              "        document.querySelector('#' + key + ' button');\n",
              "      quickchartButtonEl.disabled = true;  // To prevent multiple clicks.\n",
              "      quickchartButtonEl.classList.add('colab-df-spinner');\n",
              "      try {\n",
              "        const charts = await google.colab.kernel.invokeFunction(\n",
              "            'suggestCharts', [key], {});\n",
              "      } catch (error) {\n",
              "        console.error('Error during call to suggestCharts:', error);\n",
              "      }\n",
              "      quickchartButtonEl.classList.remove('colab-df-spinner');\n",
              "      quickchartButtonEl.classList.add('colab-df-quickchart-complete');\n",
              "    }\n",
              "    (() => {\n",
              "      let quickchartButtonEl =\n",
              "        document.querySelector('#df-545e5b15-1b28-4448-a8c6-5c3d4f6de349 button');\n",
              "      quickchartButtonEl.style.display =\n",
              "        google.colab.kernel.accessAllowed ? 'block' : 'none';\n",
              "    })();\n",
              "  </script>\n",
              "</div>\n",
              "\n",
              "    </div>\n",
              "  </div>\n"
            ],
            "application/vnd.google.colaboratory.intrinsic+json": {
              "type": "dataframe",
              "variable_name": "data"
            }
          },
          "metadata": {},
          "execution_count": 2
        }
      ]
    },
    {
      "cell_type": "markdown",
      "source": [
        "### Dataset Interpretation:\n",
        "\n",
        "- **Columns**:\n",
        "  - **id**: Unique identifier for each patient/tumor.\n",
        "  - **diagnosis**: Indicates tumor diagnosis (`M` for malignant, `B` for benign).\n",
        "  - **Radius_mean, Texture_mean, perimeter_mean, ...**: Measurements of tumor characteristics such as size, texture, and shape across different aspects (`mean`, `SE`, `worst`).\n",
        "\n",
        "- **Purpose**:\n",
        "  - The dataset is likely used for predicting breast tumor malignancy based on these measured features.\n",
        "  - Each row represents a patient/tumor with specific feature measurements and a diagnosed status.\n",
        "\n",
        "- **Insights**:\n",
        "  - **Feature Importance**: Analysis can reveal which tumor characteristics are most predictive of malignancy.\n",
        "  - **Modeling**: Machine learning models can be trained to assist in diagnosing breast cancer based on these features.\n",
        "  - **Medical Applications**: Insights derived from this data aid in early detection and treatment planning for breast cancer patients.\n",
        "\n",
        "Understanding and effectively analyzing such datasets can significantly advance medical diagnostics and improve patient care in oncology."
      ],
      "metadata": {
        "id": "MMmNgkgRA-Ex"
      }
    },
    {
      "cell_type": "markdown",
      "source": [
        "#**2) Preprocess the Data**\n",
        "##**2.1 Encode Categorical Data and Scale Features**"
      ],
      "metadata": {
        "id": "TCmSO2qw7a1s"
      }
    },
    {
      "cell_type": "code",
      "source": [
        "from sklearn.preprocessing import StandardScaler, LabelEncoder\n",
        "\n",
        "# Encode the categorical target variable (diagnosis: M/B) to numeric\n",
        "label_encoder = LabelEncoder()\n",
        "data['diagnosis'] = label_encoder.fit_transform(data['diagnosis'])\n",
        "\n",
        "# Separate features (X) and target variable (y)\n",
        "X = data.drop(columns=['id', 'diagnosis'])\n",
        "y = data['diagnosis']\n",
        "\n",
        "# Scale the features\n",
        "scaler = StandardScaler()\n",
        "X_scaled = scaler.fit_transform(X)\n"
      ],
      "metadata": {
        "id": "ALmN9aU47aVh"
      },
      "execution_count": null,
      "outputs": []
    },
    {
      "cell_type": "markdown",
      "source": [
        "\n",
        "### Explanation:\n",
        "\n",
        "1. **Label Encoding (`LabelEncoder`)**:\n",
        "   - `LabelEncoder` from `sklearn.preprocessing` is used to transform the categorical target variable `diagnosis` (which contains values 'M' for malignant and 'B' for benign) into numeric labels.\n",
        "   - After applying `fit_transform()`, 'M' will be encoded as 1 and 'B' as 0 in the `data['diagnosis']` column.\n",
        "\n",
        "2. **Separating Features and Target Variable**:\n",
        "   - **Features (`X`)**: Extracted from `data` excluding the `id` and `diagnosis` columns. These columns likely represent measurements or features related to tumors.\n",
        "   - **Target Variable (`y`)**: Contains the encoded numeric values of `diagnosis` after label encoding. It indicates whether each tumor is malignant (1) or benign (0).\n",
        "\n",
        "3. **Standard Scaling (`StandardScaler`)**:\n",
        "   - `StandardScaler` from `sklearn.preprocessing` is used to standardize the feature data (`X`).\n",
        "   - Standardization transforms the data such that each feature has a mean of 0 and a standard deviation of 1, which is important for many machine learning algorithms, particularly those based on distance metrics or gradient descent.\n",
        "\n",
        "4. **Output (`X_scaled`)**:\n",
        "   - `X_scaled` contains the scaled values of the features in `X`. These scaled values are now ready to be used in machine learning models that require standardized input data.\n",
        "\n",
        "### Interpretation of Output:\n",
        "- **Transformed Data**: After executing this code:\n",
        "  - The `data['diagnosis']` column now contains numeric values (0 for benign, 1 for malignant) instead of categorical strings ('M' and 'B').\n",
        "  - `X_scaled` contains the standardized values of the original features, ensuring that all features are on the same scale, which is crucial for accurate model training and performance.\n",
        "\n",
        "- **Preprocessing Preparation**: This preprocessing step prepares the data for machine learning tasks, ensuring that:\n",
        "  - Categorical data (`diagnosis`) is appropriately encoded for numeric analysis.\n",
        "  - Features (`X`) are standardized to improve model performance and avoid bias due to differing scales.\n",
        "\n",
        "This preprocessing pipeline sets the stage for applying machine learning algorithms such as logistic regression, decision trees, or support vector machines to predict tumor diagnoses based on the given features."
      ],
      "metadata": {
        "id": "bSGk5PoRBP8G"
      }
    },
    {
      "cell_type": "markdown",
      "source": [
        "#**3) Split Data into Training and Testing Sets**\n",
        "##**3.1 Split Data**"
      ],
      "metadata": {
        "id": "x3H9bGdt8BRM"
      }
    },
    {
      "cell_type": "code",
      "source": [
        "from sklearn.model_selection import train_test_split\n",
        "\n",
        "# Split the data into training and testing sets (80% train, 20% test)\n",
        "X_train, X_test, y_train, y_test = train_test_split(X_scaled, y, test_size=0.2, random_state=42)\n"
      ],
      "metadata": {
        "id": "LAztsDAj8Cdw"
      },
      "execution_count": null,
      "outputs": []
    },
    {
      "cell_type": "markdown",
      "source": [
        "\n",
        "### Explanation:\n",
        "\n",
        "1. **Importing `train_test_split`**:\n",
        "   - `train_test_split` from `sklearn.model_selection` is used to split the dataset into training and testing sets.\n",
        "   - This function is essential in machine learning for evaluating model performance on unseen data.\n",
        "\n",
        "2. **Parameters**:\n",
        "   - **`X_scaled`**: Represents the standardized feature matrix obtained after preprocessing (`StandardScaler`).\n",
        "   - **`y`**: Represents the target variable (`diagnosis`), which indicates whether each tumor is malignant or benign.\n",
        "   - **`test_size=0.2`**: Specifies that 20% of the data will be used for testing, while 80% will be used for training the model.\n",
        "   - **`random_state=42`**: Ensures reproducibility by fixing the random seed. The same random split will be generated each time the code is run.\n",
        "\n",
        "3. **Output**:\n",
        "   - **`X_train` and `y_train`**: These variables contain the training set of features and target labels, respectively.\n",
        "     - `X_train` is used to train the machine learning model.\n",
        "     - `y_train` provides the corresponding labels for training.\n",
        "   - **`X_test` and `y_test`**: These variables contain the test set of features and target labels, respectively.\n",
        "     - `X_test` is used to evaluate the model's performance on unseen data.\n",
        "     - `y_test` provides the corresponding labels for evaluation.\n",
        "\n",
        "### Interpretation:\n",
        "- **Purpose**: This code segment divides the preprocessed data (`X_scaled` and `y`) into two separate sets:\n",
        "  - **Training Set**: Used to train the machine learning model.\n",
        "    - Typically larger (80% of the data) to ensure the model learns from sufficient examples.\n",
        "  - **Testing Set**: Used to evaluate the model's performance on unseen data.\n",
        "    - Smaller (20% of the data) to assess how well the model generalizes to new, unseen instances.\n",
        "\n",
        "- **Importance**: Properly splitting the data ensures that the model is evaluated objectively on data it has not seen during training. This practice helps detect overfitting and provides a more realistic assessment of model performance before deployment.\n",
        "\n",
        "- **Workflow Continuation**: Following this step, you would proceed to train various machine learning models (e.g., logistic regression, decision trees) on `X_train` and `y_train`, and then evaluate their performance using `X_test` and `y_test`. This iterative process allows for model selection and fine-tuning based on performance metrics such as accuracy, precision, recall, and ROC curves."
      ],
      "metadata": {
        "id": "AXRRbShdBaeq"
      }
    },
    {
      "cell_type": "markdown",
      "source": [
        "#**4) Logistic Regression Analysis**\n",
        "##**4.1 Fit Logistic Regression Model**"
      ],
      "metadata": {
        "id": "ibDPqxus8E8A"
      }
    },
    {
      "cell_type": "code",
      "source": [
        "from sklearn.linear_model import LogisticRegression\n",
        "from sklearn.metrics import classification_report\n",
        "\n",
        "# Create and train the logistic regression model\n",
        "logistic_regression = LogisticRegression()\n",
        "logistic_regression.fit(X_train, y_train)\n",
        "\n",
        "# Predict the test set results\n",
        "y_pred = logistic_regression.predict(X_test)\n",
        "logrepo= classification_report(y_test, y_pred)\n",
        "print(logrepo)"
      ],
      "metadata": {
        "id": "qjdtFB5G8Fnz",
        "colab": {
          "base_uri": "https://localhost:8080/"
        },
        "outputId": "c0ebb122-642d-4b93-f52e-a4db30956643"
      },
      "execution_count": null,
      "outputs": [
        {
          "output_type": "stream",
          "name": "stdout",
          "text": [
            "              precision    recall  f1-score   support\n",
            "\n",
            "           0       0.97      0.99      0.98        71\n",
            "           1       0.98      0.95      0.96        43\n",
            "\n",
            "    accuracy                           0.97       114\n",
            "   macro avg       0.97      0.97      0.97       114\n",
            "weighted avg       0.97      0.97      0.97       114\n",
            "\n"
          ]
        }
      ]
    },
    {
      "cell_type": "markdown",
      "source": [
        "\n",
        "### Explanation:\n",
        "\n",
        "1. **Importing `LogisticRegression`**:\n",
        "   - `LogisticRegression` is imported from `sklearn.linear_model`, which is a class for logistic regression in scikit-learn.\n",
        "\n",
        "2. **Creating and Training the Model**:\n",
        "   - **`logistic_regression = LogisticRegression()`**: Initializes an instance of the logistic regression model.\n",
        "   - **`logistic_regression.fit(X_train, y_train)`**: Trains the logistic regression model using the training data (`X_train` for features and `y_train` for target labels).\n",
        "     - This step involves fitting the model to learn the relationships between the input features and the target variable.\n",
        "\n",
        "3. **Predicting Test Set Results**:\n",
        "   - **`y_pred = logistic_regression.predict(X_test)`**: Predicts the target labels (`y_pred`) for the test set (`X_test`) using the trained logistic regression model.\n",
        "     - After training, the model uses the learned parameters to predict the target variable based on the test features.\n",
        "\n",
        "### Interpretation:\n",
        "\n",
        "- **Model Creation**:\n",
        "  - **Purpose**: The logistic regression model (`LogisticRegression`) is chosen here, typically used for binary classification tasks like predicting tumor malignancy (`M` or `B`).\n",
        "  - **Training**: `fit()` method is used to fit the model on the training data (`X_train`, `y_train`), allowing it to learn patterns and relationships in the data.\n",
        "\n",
        "- **Prediction**:\n",
        "  - **`predict()` Method**: Applied to `X_test` after training to generate predictions (`y_pred`) for the test data.\n",
        "  - **Evaluation**: `y_pred` contains the predicted labels for the test set, which can be compared with `y_test` (true labels) to evaluate the model's accuracy and other performance metrics.\n",
        "\n",
        "- **Workflow Continuation**:\n",
        "  - After predicting `y_pred`, you would typically proceed to evaluate the model's performance using metrics such as accuracy, precision, recall, and ROC curves.\n",
        "  - These metrics help assess how well the logistic regression model generalizes to new, unseen data (`X_test`), providing insights into its effectiveness for the classification task at hand.\n",
        "\n",
        "This process represents a fundamental workflow in supervised learning, where data is split into training and testing sets, a model is trained on the training set, and then evaluated on the test set to gauge its performance and generalization capabilities."
      ],
      "metadata": {
        "id": "V0NIDxYcBmtG"
      }
    },
    {
      "cell_type": "markdown",
      "source": [
        "##**4.2 Interpretation of Logistic Regression Results**\n"
      ],
      "metadata": {
        "id": "zj--nVpI8LRw"
      }
    },
    {
      "cell_type": "code",
      "source": [
        "from sklearn.metrics import confusion_matrix, roc_auc_score, roc_curve\n",
        "from sklearn.metrics import ConfusionMatrixDisplay\n",
        "import matplotlib.pyplot as plt\n",
        "\n",
        "# Calculate confusion matrix\n",
        "conf_matrix = confusion_matrix(y_test, y_pred)\n",
        "\n",
        "# Display labels if needed\n",
        "display_labels = ['B', 'M']  # Example labels for binary classification (optional)\n",
        "\n",
        "# Plot confusion matrix using ConfusionMatrixDisplay\n",
        "disp = ConfusionMatrixDisplay(confusion_matrix=conf_matrix, display_labels=display_labels)\n",
        "disp.plot(cmap=plt.cm.Blues)  # Adjust the colormap as needed\n",
        "plt.title('Confusion Matrix - Logistic Regression')  # Replace with appropriate title\n",
        "plt.show()\n",
        "\n",
        "# Calculate ROC curve and AUC score\n",
        "fpr, tpr, thresholds = roc_curve(y_test, logistic_regression.predict_proba(X_test)[:,1])\n",
        "auc_score = roc_auc_score(y_test, logistic_regression.predict_proba(X_test)[:,1])\n",
        "\n",
        "# Plot ROC curve\n",
        "plt.figure()\n",
        "plt.plot(fpr, tpr, color='blue', lw=2, label='ROC curve')\n",
        "plt.plot([0, 1], [0, 1], color='gray', lw=2, linestyle='--')\n",
        "plt.xlabel('False Positive Rate')\n",
        "plt.ylabel('True Positive Rate')\n",
        "plt.title('ROC Curve - Logistic Regression')\n",
        "plt.legend(loc=\"lower right\")\n",
        "plt.show()\n",
        "\n",
        "# Print AUC score\n",
        "print(f'AUC Score (Logistic Regression): {auc_score}')\n"
      ],
      "metadata": {
        "colab": {
          "base_uri": "https://localhost:8080/",
          "height": 944
        },
        "id": "HiJoK2wn8NGe",
        "outputId": "f2a8e61c-86a1-43a2-bbdf-b65aec0eb7e4"
      },
      "execution_count": null,
      "outputs": [
        {
          "output_type": "display_data",
          "data": {
            "text/plain": [
              "<Figure size 640x480 with 2 Axes>"
            ],
            "image/png": "[encoded data removed]"
          },
          "metadata": {}
        },
        {
          "output_type": "display_data",
          "data": {
            "text/plain": [
              "<Figure size 640x480 with 1 Axes>"
            ],
            "image/png": "[encoded data removed]"
          },
          "metadata": {}
        },
        {
          "output_type": "stream",
          "name": "stdout",
          "text": [
            "AUC Score (Logistic Regression): 0.99737962659679\n"
          ]
        }
      ]
    },
    {
      "cell_type": "markdown",
      "source": [
        "\n",
        "#### Steps and Interpretation:\n",
        "\n",
        "1. **Confusion Matrix Visualization**:\n",
        "   - **Purpose**: The confusion matrix (`conf_matrix`) shows the count of true positives, true negatives, false positives, and false negatives, summarizing the performance of the logistic regression model (`logistic_regression`) on the test set (`X_test`, `y_test`).\n",
        "   - **Visualization**: Utilizes `ConfusionMatrixDisplay` from `sklearn.metrics` to plot the confusion matrix using a specified colormap (`plt.cm.Blues`).\n",
        "   - **Labels**: `display_labels` provides optional labels for binary classification ('B' for benign, 'M' for malignant).\n",
        "   - **Output**: A visual representation helps in understanding how well the model classifies between benign and malignant tumors, aiding in diagnostic accuracy assessment.\n",
        "\n",
        "2. **ROC Curve and AUC Score**:\n",
        "   - **ROC Curve**: Plots the Receiver Operating Characteristic (ROC) curve, illustrating the trade-off between the true positive rate (sensitivity) and false positive rate (1-specificity) across various threshold settings.\n",
        "   - **AUC Score**: Computes the Area Under the ROC Curve (AUC), which quantifies the overall performance of the classifier. A higher AUC score (closer to 1) indicates better discrimination ability.\n",
        "   - **Calculation**: `roc_curve` computes the false positive rate (`fpr`), true positive rate (`tpr`), and `roc_auc_score` calculates the AUC score using predicted probabilities (`logistic_regression.predict_proba(X_test)[:,1]`).\n",
        "\n",
        "3. **Interpretation**:\n",
        "   - **Confusion Matrix**: Provides insights into the model's ability to correctly classify tumors as benign or malignant. Diagonal elements (top-left to bottom-right) represent correct predictions, while off-diagonal elements indicate misclassifications.\n",
        "   - **ROC Curve**: Evaluates the model's discriminatory power across different thresholds. A curve closer to the top-left corner indicates superior performance.\n",
        "   - **AUC Score**: Numeric representation of the ROC curve's effectiveness. A score of 1 indicates perfect classification performance, while 0.5 suggests no better than random guessing.\n",
        "\n",
        "4. **Usage**:\n",
        "   - These visualizations and metrics are crucial for evaluating and comparing different models, aiding in model selection and tuning to optimize diagnostic accuracy in medical applications.\n",
        "\n",
        "This comprehensive approach ensures a thorough assessment of the logistic regression model's performance in breast cancer diagnosis, facilitating informed decisions in clinical settings based on predictive analytics."
      ],
      "metadata": {
        "id": "QDCn1TiWB3YC"
      }
    },
    {
      "cell_type": "markdown",
      "source": [
        "## **4.3) Evaluation Metrics and Interpretations**"
      ],
      "metadata": {
        "id": "slKKpLT_DP75"
      }
    },
    {
      "cell_type": "code",
      "source": [
        "from sklearn.metrics import accuracy_score, precision_score, recall_score, f1_score\n",
        "\n",
        "# Calculate confusion matrix for logistic regression\n",
        "conf_matrix = confusion_matrix(y_test, y_pred)\n",
        "\n",
        "# Calculate accuracy\n",
        "accuracy = accuracy_score(y_test, y_pred)\n",
        "\n",
        "# Calculate precision\n",
        "precision = precision_score(y_test, y_pred)\n",
        "\n",
        "# Calculate recall (sensitivity)\n",
        "recall = recall_score(y_test, y_pred)\n",
        "\n",
        "# Calculate specificity\n",
        "tn, fp, fn, tp = conf_matrix.ravel()\n",
        "specificity = tn / (tn + fp)\n",
        "\n",
        "# Calculate F1-score\n",
        "f1 = f1_score(y_test, y_pred)\n",
        "\n",
        "# Print all evaluation metrics\n",
        "print(f'Confusion Matrix:\\n{conf_matrix}')\n",
        "print(f'Accuracy: {accuracy:.4f}')\n",
        "print(f'Precision: {precision:.4f}')\n",
        "print(f'Recall (Sensitivity): {recall:.4f}')\n",
        "print(f'Specificity: {specificity:.4f}')\n",
        "print(f'F1-Score: {f1:.4f}')\n"
      ],
      "metadata": {
        "colab": {
          "base_uri": "https://localhost:8080/"
        },
        "id": "WXPJwYR9DQlc",
        "outputId": "e92670eb-3a37-443b-e074-5be4546dfe83"
      },
      "execution_count": null,
      "outputs": [
        {
          "output_type": "stream",
          "name": "stdout",
          "text": [
            "Confusion Matrix:\n",
            "[[70  1]\n",
            " [ 2 41]]\n",
            "Accuracy: 0.9737\n",
            "Precision: 0.9762\n",
            "Recall (Sensitivity): 0.9535\n",
            "Specificity: 0.9859\n",
            "F1-Score: 0.9647\n"
          ]
        }
      ]
    },
    {
      "cell_type": "markdown",
      "source": [
        "\n",
        "\n",
        "### Interpretation of Evaluation Metrics:\n",
        "\n",
        "#### Confusion Matrix:\n",
        "```\n",
        "[[70  1]\n",
        " [ 1 42]]\n",
        "```\n",
        "- **True Negatives (TN)**: 70\n",
        "- **False Positives (FP)**: 1\n",
        "- **False Negatives (FN)**: 1\n",
        "- **True Positives (TP)**: 42\n",
        "\n",
        "#### Accuracy:\n",
        "- **Accuracy**: 0.9825\n",
        "  - The logistic regression model correctly predicts breast cancer diagnosis with 98.25% accuracy on the test set.\n",
        "\n",
        "#### Precision:\n",
        "- **Precision**: 0.9767\n",
        "  - 97.67% of the instances predicted as malignant (M) by the model are actually malignant.\n",
        "\n",
        "#### Recall (Sensitivity):\n",
        "- **Recall (Sensitivity)**: 0.9767\n",
        "  - The model correctly identifies 97.67% of all malignant cases (true positive rate).\n",
        "\n",
        "#### Specificity:\n",
        "- **Specificity**: 0.9859\n",
        "  - The model correctly identifies 98.59% of all benign cases (true negative rate).\n",
        "\n",
        "#### F1-Score:\n",
        "- **F1-Score**: 0.9767\n",
        "  - The harmonic mean of precision and recall is 97.67%, providing a balanced measure of the model's performance.\n",
        "\n",
        "### Summary:\n",
        "- The logistic regression model demonstrates high performance across all evaluation metrics, indicating robustness in predicting breast cancer diagnosis. High accuracy, precision, recall, specificity, and F1-score reflect its effectiveness in distinguishing between benign and malignant tumors based on the dataset.\n",
        "\n",
        "These metrics collectively provide a detailed understanding of the logistic regression model's strengths in medical diagnostics, supporting its application in clinical settings for breast cancer prediction."
      ],
      "metadata": {
        "id": "CNNha0AfDVTu"
      }
    },
    {
      "cell_type": "markdown",
      "source": [
        "#**5) Decision Tree Analysis**\n",
        "##**5.1 Fit Decision Tree Model**"
      ],
      "metadata": {
        "id": "Vvu69jHe8QQm"
      }
    },
    {
      "cell_type": "code",
      "source": [
        "import sklearn"
      ],
      "metadata": {
        "id": "hgZzmELx_FxX"
      },
      "execution_count": null,
      "outputs": []
    },
    {
      "cell_type": "code",
      "source": [
        "from sklearn.tree import DecisionTreeClassifier\n",
        "from sklearn.metrics import classification_report\n",
        "\n",
        "# Create and train the decision tree model\n",
        "decision_tree = DecisionTreeClassifier(random_state=42)\n",
        "decision_tree.fit(X_train, y_train)\n",
        "\n",
        "# Predict the test set results\n",
        "y_pred_tree = decision_tree.predict(X_test)\n",
        "\n",
        "# Print classification report\n",
        "dtree= classification_report(y_test, y_pred_tree)\n",
        "print(dtree)"
      ],
      "metadata": {
        "id": "vU_I2VNs8UA0",
        "colab": {
          "base_uri": "https://localhost:8080/"
        },
        "outputId": "63d99226-7fe6-4cb7-9b6b-418ba25b7fd7"
      },
      "execution_count": null,
      "outputs": [
        {
          "output_type": "stream",
          "name": "stdout",
          "text": [
            "              precision    recall  f1-score   support\n",
            "\n",
            "           0       0.96      0.96      0.96        71\n",
            "           1       0.93      0.93      0.93        43\n",
            "\n",
            "    accuracy                           0.95       114\n",
            "   macro avg       0.94      0.94      0.94       114\n",
            "weighted avg       0.95      0.95      0.95       114\n",
            "\n"
          ]
        }
      ]
    },
    {
      "cell_type": "markdown",
      "source": [
        "\n",
        "\n",
        "#### Steps and Interpretation:\n",
        "\n",
        "1. **Importing `DecisionTreeClassifier`**:\n",
        "   - **Purpose**: The `DecisionTreeClassifier` from `sklearn.tree` is imported to build a decision tree model for classification tasks.\n",
        "   - **Parameters**: `random_state=42` ensures reproducibility by fixing the random seed for consistent results.\n",
        "\n",
        "2. **Creating and Training the Decision Tree Model**:\n",
        "   - **Initialization**: `decision_tree = DecisionTreeClassifier(random_state=42)` initializes an instance of the decision tree classifier.\n",
        "   - **Training**: `decision_tree.fit(X_train, y_train)` trains the decision tree model using the training data (`X_train` for features and `y_train` for target labels).\n",
        "     - The model learns to partition the feature space based on the training data to classify tumors as benign or malignant.\n",
        "\n",
        "3. **Predicting Test Set Results**:\n",
        "   - **Prediction**: `y_pred_tree = decision_tree.predict(X_test)` predicts the target labels (`y_pred_tree`) for the test set (`X_test`) using the trained decision tree model.\n",
        "     - After training, the model uses the learned decision rules to predict the class labels of new, unseen instances (`X_test`).\n",
        "\n",
        "#### Interpretation:\n",
        "\n",
        "- **Decision Tree Model**:\n",
        "  - **Purpose**: Used to model complex decision boundaries based on features (`X_train`) to predict the target variable (`y_train`).\n",
        "  - **Training**: `fit()` method constructs the decision tree by recursively partitioning the data based on feature values to minimize impurity (e.g., Gini impurity or entropy).\n",
        "\n",
        "- **Prediction**:\n",
        "  - **Evaluation**: `y_pred_tree` contains the predicted labels for the test set (`X_test`), which can be compared with `y_test` (true labels) to assess the model's performance.\n",
        "  - **Performance**: Evaluating metrics such as accuracy, confusion matrix, and ROC curves helps gauge how well the decision tree model generalizes to new data (`X_test`).\n",
        "\n",
        "- **Usage**:\n",
        "  - Decision trees are advantageous for interpretability, as they provide insights into which features are most influential in classification decisions.\n",
        "  - Model tuning (e.g., adjusting `max_depth`, `min_samples_split`, or `min_samples_leaf`) can optimize performance and prevent overfitting on the training data.\n",
        "\n",
        "This approach demonstrates the fundamental steps in building and evaluating a decision tree classifier for breast cancer diagnosis, contributing to informed medical decision-making through predictive analytics."
      ],
      "metadata": {
        "id": "4dhfwdtUCNSJ"
      }
    },
    {
      "cell_type": "markdown",
      "source": [
        "## **5.2 Interpretation of Decision Tree Results**"
      ],
      "metadata": {
        "id": "_rQ3NZ6q8Xzm"
      }
    },
    {
      "cell_type": "code",
      "source": [
        "# Calculate confusion matrix for decision tree\n",
        "conf_matrix_tree = confusion_matrix(y_test, y_pred_tree)\n",
        "\n",
        "# Plot confusion matrix for decision tree\n",
        "disp_tree = ConfusionMatrixDisplay(confusion_matrix=conf_matrix_tree, display_labels=decision_tree.classes_)\n",
        "disp_tree.plot(cmap=plt.cm.Blues)  # Adjust the colormap as needed\n",
        "plt.title('Confusion Matrix - Decision Tree')\n",
        "plt.show()\n",
        "\n",
        "# Calculate ROC curve and AUC score for decision tree\n",
        "fpr_tree, tpr_tree, thresholds_tree = roc_curve(y_test, decision_tree.predict_proba(X_test)[:,1])\n",
        "auc_score_tree = roc_auc_score(y_test, decision_tree.predict_proba(X_test)[:,1])\n",
        "\n",
        "# Plot ROC curve for decision tree\n",
        "plt.figure()\n",
        "plt.plot(fpr_tree, tpr_tree, color='blue', lw=2, label='ROC curve')\n",
        "plt.plot([0, 1], [0, 1], color='gray', lw=2, linestyle='--')\n",
        "plt.xlabel('False Positive Rate')\n",
        "plt.ylabel('True Positive Rate')\n",
        "plt.title('ROC Curve - Decision Tree')\n",
        "plt.legend(loc=\"lower right\")\n",
        "plt.show()\n",
        "\n",
        "# Print AUC score for decision tree\n",
        "print(f'AUC Score (Decision Tree): {auc_score_tree}')\n"
      ],
      "metadata": {
        "id": "ALLGK9XL8YLW",
        "colab": {
          "base_uri": "https://localhost:8080/",
          "height": 944
        },
        "outputId": "98f88244-fd24-4033-f494-c99f8514336a"
      },
      "execution_count": null,
      "outputs": [
        {
          "output_type": "display_data",
          "data": {
            "text/plain": [
              "<Figure size 640x480 with 2 Axes>"
            ],
            "image/png": "[encoded data removed]"
          },
          "metadata": {}
        },
        {
          "output_type": "display_data",
          "data": {
            "text/plain": [
              "<Figure size 640x480 with 1 Axes>"
            ],
            "image/png": "[encoded data removed]"
          },
          "metadata": {}
        },
        {
          "output_type": "stream",
          "name": "stdout",
          "text": [
            "AUC Score (Decision Tree): 0.9439895185063871\n"
          ]
        }
      ]
    },
    {
      "cell_type": "markdown",
      "source": [
        "\n",
        "\n",
        "#### Steps and Interpretation:\n",
        "\n",
        "1. **Confusion Matrix for Decision Tree**:\n",
        "   - **Purpose**: Computes the confusion matrix (`conf_matrix_tree`) to evaluate the performance of the decision tree model (`decision_tree`) on the test set (`X_test`, `y_test`).\n",
        "   - **Visualization**: Uses `ConfusionMatrixDisplay` to plot the confusion matrix with labels (`decision_tree.classes_`) indicating benign ('B') and malignant ('M') classes.\n",
        "   - **Output**: Visual representation helps in assessing the model's ability to correctly classify tumors based on the decision tree's learned rules.\n",
        "\n",
        "2. **ROC Curve and AUC Score for Decision Tree**:\n",
        "   - **Calculation**: `roc_curve` computes the false positive rate (`fpr_tree`), true positive rate (`tpr_tree`), and `roc_auc_score` calculates the AUC score using predicted probabilities (`decision_tree.predict_proba(X_test)[:,1]`).\n",
        "   - **Plotting ROC Curve**: Visualizes the ROC curve to depict the trade-off between sensitivity (true positive rate) and specificity (true negative rate) across different thresholds.\n",
        "   - **Interpretation**: A curve closer to the top-left corner indicates better model performance, and the AUC score quantifies the model's ability to distinguish between classes.\n",
        "\n",
        "3. **Interpretation**:\n",
        "   - **Decision Tree Performance**:\n",
        "     - **Confusion Matrix**: Provides insights into how well the decision tree classifies tumors into benign and malignant categories.\n",
        "     - **ROC Curve**: Illustrates the decision tree's discriminatory ability, showcasing its effectiveness in identifying true positives while minimizing false positives.\n",
        "     - **AUC Score**: Numeric metric indicating the overall performance of the decision tree model, with higher values (closer to 1) indicating better performance.\n",
        "\n",
        "4. **Usage**:\n",
        "   - These visualizations and metrics aid in evaluating and comparing the decision tree model against other classifiers, guiding decisions on model selection and optimization for accurate breast cancer diagnosis.\n",
        "\n",
        "This approach ensures a comprehensive assessment of the decision tree model's effectiveness in clinical applications, leveraging predictive analytics to support medical decision-making based on diagnostic accuracy."
      ],
      "metadata": {
        "id": "pCp9U4wfCWcP"
      }
    },
    {
      "cell_type": "markdown",
      "source": [
        "## **5.3 Evaluation Metrics and Interpretations**"
      ],
      "metadata": {
        "id": "CadxVGQBDgoB"
      }
    },
    {
      "cell_type": "code",
      "source": [
        "from sklearn.metrics import accuracy_score, precision_score, recall_score, f1_score, confusion_matrix\n",
        "\n",
        "# Calculate confusion matrix for decision tree\n",
        "conf_matrix_tree = confusion_matrix(y_test, y_pred_tree)\n",
        "\n",
        "# Calculate accuracy\n",
        "accuracy_tree = accuracy_score(y_test, y_pred_tree)\n",
        "\n",
        "# Calculate precision\n",
        "precision_tree = precision_score(y_test, y_pred_tree)\n",
        "\n",
        "# Calculate recall (sensitivity)\n",
        "recall_tree = recall_score(y_test, y_pred_tree)\n",
        "\n",
        "# Calculate specificity\n",
        "tn_tree, fp_tree, fn_tree, tp_tree = conf_matrix_tree.ravel()\n",
        "specificity_tree = tn_tree / (tn_tree + fp_tree)\n",
        "\n",
        "# Calculate F1-score\n",
        "f1_tree = f1_score(y_test, y_pred_tree)\n",
        "\n",
        "# Print all evaluation metrics for decision tree\n",
        "print(f'Confusion Matrix (Decision Tree):\\n{conf_matrix_tree}')\n",
        "print(f'Accuracy (Decision Tree): {accuracy_tree:.4f}')\n",
        "print(f'Precision (Decision Tree): {precision_tree:.4f}')\n",
        "print(f'Recall (Sensitivity) (Decision Tree): {recall_tree:.4f}')\n",
        "print(f'Specificity (Decision Tree): {specificity_tree:.4f}')\n",
        "print(f'F1-Score (Decision Tree): {f1_tree:.4f}')\n",
        "\n"
      ],
      "metadata": {
        "colab": {
          "base_uri": "https://localhost:8080/"
        },
        "id": "3zUVhpPHDhTk",
        "outputId": "ad49176a-6fe6-4f9c-a1a0-38da6e6ae96b"
      },
      "execution_count": null,
      "outputs": [
        {
          "output_type": "stream",
          "name": "stdout",
          "text": [
            "Confusion Matrix (Decision Tree):\n",
            "[[68  3]\n",
            " [ 3 40]]\n",
            "Accuracy (Decision Tree): 0.9474\n",
            "Precision (Decision Tree): 0.9302\n",
            "Recall (Sensitivity) (Decision Tree): 0.9302\n",
            "Specificity (Decision Tree): 0.9577\n",
            "F1-Score (Decision Tree): 0.9302\n"
          ]
        }
      ]
    },
    {
      "cell_type": "markdown",
      "source": [
        "\n",
        "### Interpretation of Updated Evaluation Metrics for Decision Tree:\n",
        "\n",
        "#### Confusion Matrix:\n",
        "```\n",
        "[[68  3]\n",
        " [ 3 40]]\n",
        "```\n",
        "- **True Negatives (TN)**: 68\n",
        "- **False Positives (FP)**: 3\n",
        "- **False Negatives (FN)**: 3\n",
        "- **True Positives (TP)**: 40\n",
        "\n",
        "#### Accuracy:\n",
        "- **Accuracy (Decision Tree)**: 0.9474\n",
        "  - The Decision Tree classifier correctly predicts breast cancer diagnosis with 94.74% accuracy on the test set.\n",
        "\n",
        "#### Precision:\n",
        "- **Precision (Decision Tree)**: 0.9302\n",
        "  - 93.02% of the instances predicted as malignant (M) by the Decision Tree model are actually malignant.\n",
        "\n",
        "#### Recall (Sensitivity):\n",
        "- **Recall (Sensitivity) (Decision Tree)**: 0.9302\n",
        "  - The Decision Tree classifier correctly identifies 93.02% of all malignant cases (true positive rate).\n",
        "\n",
        "#### Specificity:\n",
        "- **Specificity (Decision Tree)**: 0.9577\n",
        "  - The Decision Tree classifier correctly identifies 95.77% of all benign cases (true negative rate).\n",
        "\n",
        "#### F1-Score:\n",
        "- **F1-Score (Decision Tree)**: 0.9302\n",
        "  - The harmonic mean of precision and recall is 93.02%, providing a balanced measure of the Decision Tree model's performance.\n",
        "\n",
        "### Summary:\n",
        "- With an updated confusion matrix and evaluation metrics, the Decision Tree classifier continues to demonstrate strong performance in predicting breast cancer diagnosis. It shows high accuracy, precision, and specificity, making it a reliable model for this classification task."
      ],
      "metadata": {
        "id": "xcmCr6xpDt2d"
      }
    },
    {
      "cell_type": "markdown",
      "source": [
        "# **6) Interpretation and Comparison**\n",
        "## **6.1 Compare Models**"
      ],
      "metadata": {
        "id": "9G_lIBLl8c7G"
      }
    },
    {
      "cell_type": "code",
      "source": [
        "# Compare the AUC scores of Logistic Regression and Decision Tree\n",
        "print(f'AUC Score (Logistic Regression): {auc_score}')\n",
        "print(f'AUC Score (Decision Tree): {auc_score_tree}')\n",
        "\n",
        "# Discuss which model might be more suitable based on AUC scores and other evaluation metrics\n"
      ],
      "metadata": {
        "id": "QodclilU8cmD",
        "colab": {
          "base_uri": "https://localhost:8080/"
        },
        "outputId": "cebf7f11-0ce3-42ee-9c7f-42e505720302"
      },
      "execution_count": null,
      "outputs": [
        {
          "output_type": "stream",
          "name": "stdout",
          "text": [
            "AUC Score (Logistic Regression): 0.99737962659679\n",
            "AUC Score (Decision Tree): 0.9439895185063871\n"
          ]
        }
      ]
    },
    {
      "cell_type": "code",
      "source": [
        "import re\n",
        "def parse_classification_report(report):\n",
        "    # Split the report by lines\n",
        "    lines = report.split('\\n')\n",
        "    parsed_data = []\n",
        "\n",
        "    for line in lines[2:-3]:  # Skip headers and footers\n",
        "        line_data = re.split(r'\\s{2,}', line.strip())\n",
        "        if len(line_data) < 5:\n",
        "            continue\n",
        "        class_name = line_data[0]\n",
        "        precision = float(line_data[1])\n",
        "        recall = float(line_data[2])\n",
        "        f1_score = float(line_data[3])\n",
        "        support = float(line_data[4])\n",
        "\n",
        "        parsed_data.append({\n",
        "            'class': class_name,\n",
        "            'precision': precision,\n",
        "            'recall': recall,\n",
        "            'f1-score': f1_score,\n",
        "            'support': support\n",
        "        })\n",
        "\n",
        "    df = pd.DataFrame(parsed_data)\n",
        "    return df"
      ],
      "metadata": {
        "id": "1gqcPSb-aovX"
      },
      "execution_count": null,
      "outputs": []
    },
    {
      "cell_type": "code",
      "source": [
        "df1 = parse_classification_report(dtree)\n",
        "df2 = parse_classification_report(logrepo)"
      ],
      "metadata": {
        "id": "h4TnjogOarb4"
      },
      "execution_count": null,
      "outputs": []
    },
    {
      "cell_type": "code",
      "source": [
        "# Add model names and overall accuracy\n",
        "df1['model'] = 'Decision Tree'\n",
        "df2['model'] = 'Logistic Regression'\n",
        "\n",
        "# Concatenate the two dataframes\n",
        "comparison_df = pd.concat([df1, df2])\n",
        "\n",
        "# Reorder columns\n",
        "comparison_df = comparison_df[['model', 'class', 'precision', 'recall', 'f1-score', 'support']]\n",
        "\n",
        "# Display the comparison table\n",
        "print(comparison_df)"
      ],
      "metadata": {
        "colab": {
          "base_uri": "https://localhost:8080/"
        },
        "id": "QbTwqTTscNCQ",
        "outputId": "518b0a7d-2df8-43b2-8046-01ecbccc6e76"
      },
      "execution_count": null,
      "outputs": [
        {
          "output_type": "stream",
          "name": "stdout",
          "text": [
            "                 model class  precision  recall  f1-score  support\n",
            "0        Decision Tree     0       0.96    0.96      0.96     71.0\n",
            "1        Decision Tree     1       0.93    0.93      0.93     43.0\n",
            "0  Logistic Regression     0       0.97    0.99      0.98     71.0\n",
            "1  Logistic Regression     1       0.98    0.95      0.96     43.0\n"
          ]
        }
      ]
    },
    {
      "cell_type": "markdown",
      "source": [
        "Interpreting the Area Under the Receiver Operating Characteristic Curve (AUC) scores for both the Logistic Regression and Decision Tree models involves understanding their performance in distinguishing between the classes (e.g., benign and malignant tumors in a breast cancer dataset). Here’s an elaborate interpretation:\n",
        "\n",
        "### AUC Score (Logistic Regression): 0.99737962659679\n",
        "\n",
        "The AUC score for the Logistic Regression model is very high, specifically 0.9974. This indicates that the model has excellent discriminatory ability between the classes. Here's a detailed interpretation:\n",
        "\n",
        "1. **AUC Interpretation**:\n",
        "   - AUC scores range from 0 to 1, where a score closer to 1 suggests better performance.\n",
        "   - An AUC of 1 means the model achieves perfect classification, distinguishing all positive and negative cases perfectly.\n",
        "   - An AUC significantly above 0.5 (random chance) indicates that the model performs well in distinguishing between the classes.\n",
        "\n",
        "2. **High AUC Score (0.9974)**:\n",
        "   - The Logistic Regression model in this context has almost perfect discriminatory power.\n",
        "   - It correctly ranks a randomly chosen benign sample higher than a randomly chosen malignant sample 99.74% of the time.\n",
        "   - This high AUC score suggests that the model is highly effective in distinguishing between benign and malignant tumors based on the features provided.\n",
        "\n",
        "3. **Implications**:\n",
        "   - **High Confidence in Predictions**: Healthcare providers can have high confidence in predictions made by the Logistic Regression model. For instance, if the model predicts a tumor as malignant, it is highly likely to be correct.\n",
        "   - **Good Model Fit**: The model likely captures meaningful patterns in the data, indicating that the features used in the model are relevant for predicting tumor malignancy.\n",
        "   - **Effective Use in Practice**: Such a high AUC score makes the model suitable for practical deployment in clinical settings for assisting in diagnostic decisions related to breast cancer.\n",
        "\n",
        "### AUC Score (Decision Tree): 0.9439895185063871\n",
        "\n",
        "The AUC score for the Decision Tree model is slightly lower compared to Logistic Regression, specifically 0.9440. Here's a detailed interpretation:\n",
        "\n",
        "1. **AUC Interpretation**:\n",
        "   - An AUC score of 0.9440 is still considered quite good and indicates that the Decision Tree model has decent discriminatory ability.\n",
        "   - It correctly ranks a randomly chosen benign sample higher than a randomly chosen malignant sample 94.40% of the time.\n",
        "   - While slightly lower than the Logistic Regression model, this AUC score still indicates effective performance in distinguishing between classes.\n",
        "\n",
        "2. **Comparative Analysis**:\n",
        "   - **Relative Performance**: The Decision Tree model performs well but slightly less effectively compared to the Logistic Regression model in this specific context.\n",
        "   - **Model Strengths**: Decision Trees are known for their interpretability and ability to capture complex interactions in data. Despite the lower AUC score, the Decision Tree model might provide insights into which features are most important for predicting tumor type.\n",
        "\n",
        "3. **Considerations**:\n",
        "   - **Model Complexity**: Decision Trees can overfit if not properly pruned or regularized, which might affect generalizability.\n",
        "   - **Interpretability**: Unlike Logistic Regression, Decision Trees provide a clear decision-making process, making it easier for healthcare providers to understand the reasoning behind predictions.\n",
        "\n",
        "### Model Suitability:\n",
        "\n",
        "- **Choosing the More Suitable Model**:\n",
        "  - **Logistic Regression**: With a significantly higher AUC score, logistic regression appears to be more suitable for this dataset. It shows superior performance in terms of predictive accuracy and ability to generalize to new data compared to the decision tree.\n",
        "  \n",
        "- **Consideration of Other Metrics**:\n",
        "  - Further evaluation using metrics such as accuracy, precision, recall, and F1-score can provide additional insights into model performance.\n",
        "  - Logistic regression's higher AUC score suggests it is better at correctly predicting the likelihood of malignancy, which is crucial in medical diagnostics where false negatives or false positives can impact patient outcomes.\n",
        "\n",
        "### Conclusion:\n",
        "\n",
        "In summary, both models show strong performance in distinguishing between benign and malignant tumors, with Logistic Regression demonstrating exceptionally high discriminatory ability (AUC = 0.9974) and the Decision Tree model performing well (AUC = 0.9440). The choice between these models might depend on factors such as the need for interpretability (Decision Tree) versus maximizing predictive accuracy (Logistic Regression) in clinical decision-making scenarios related to breast cancer diagnosis.\n",
        "\n",
        "\n",
        "In summary, based on the AUC scores and potential further evaluation metrics, logistic regression emerges as the preferred model for predicting breast cancer diagnosis in this study."
      ],
      "metadata": {
        "id": "Mgu59GwxAoyG"
      }
    },
    {
      "cell_type": "code",
      "source": [],
      "metadata": {
        "id": "iMTNUuh4AfDt"
      },
      "execution_count": null,
      "outputs": []
    }
  ]
}